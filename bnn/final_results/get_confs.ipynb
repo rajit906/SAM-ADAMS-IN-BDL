{
 "cells": [
  {
   "cell_type": "markdown",
   "id": "a96dc3e9-099f-42a4-86d8-0dbcfbc15cc7",
   "metadata": {},
   "source": [
    "Obtain the confidences of the samplers."
   ]
  },
  {
   "cell_type": "code",
   "execution_count": 1,
   "id": "c73526e2-b4a3-4b1b-8295-7d03e137116a",
   "metadata": {},
   "outputs": [],
   "source": [
    "import pickle\n",
    "import numpy as np"
   ]
  },
  {
   "cell_type": "code",
   "execution_count": 2,
   "id": "4df0d36e-7c51-4180-8a66-44eccb838e78",
   "metadata": {},
   "outputs": [],
   "source": [
    "def get_values(pickle_path):\n",
    "    with open(pickle_path, \"rb\") as f:\n",
    "        evaluations = pickle.load(f)\n",
    "    \n",
    "    confidences = evaluations['test'][-1]['confidences']\n",
    "    return np.mean(confidences)"
   ]
  },
  {
   "cell_type": "code",
   "execution_count": 3,
   "id": "bdbf576e-5941-47f6-b1f8-a1730c75cba7",
   "metadata": {},
   "outputs": [],
   "source": [
    "names = [\"Identity\", \"Wenzel\", \"RMSprop\", \"Monge\", \"Shampoo\"]\n",
    "dirs = [\"VanillaSGLD_0.25\", \"WenzelSGLD_0.75\", \"pSGLD_0.0005\", \"MongeSGLD_0.25_monge_alpha_2=1.25\", \"ShampooSGLD_0.005\"]"
   ]
  },
  {
   "cell_type": "code",
   "execution_count": 4,
   "id": "50d8f37f-9596-403d-a434-ca963aa50dbb",
   "metadata": {},
   "outputs": [
    {
     "name": "stdout",
     "output_type": "stream",
     "text": [
      "Identity\n",
      "0.9544\n",
      "Wenzel\n",
      "0.9568\n",
      "RMSprop\n",
      "0.9684\n",
      "Monge\n",
      "0.9648\n",
      "Shampoo\n",
      "0.9663\n"
     ]
    }
   ],
   "source": [
    "for name, c_dir in zip(names, dirs):\n",
    "    confs, accs = [], []\n",
    "    for index in range(3):\n",
    "        conf = get_values(f\"../results/ece_test/mnist_400_horseshoe_1.0_100_flat_400_1000/{c_dir}/{index+1}/evaluations.pkl\")\n",
    "        confs.append(conf)\n",
    "    print(name)\n",
    "    print(np.round(np.mean(confs), 4))"
   ]
  },
  {
   "cell_type": "code",
   "execution_count": null,
   "id": "4e7f7777-3a9b-4cd1-8025-4ff327334fd5",
   "metadata": {},
   "outputs": [],
   "source": []
  }
 ],
 "metadata": {
  "kernelspec": {
   "display_name": "Python 3 (ipykernel)",
   "language": "python",
   "name": "python3"
  },
  "language_info": {
   "codemirror_mode": {
    "name": "ipython",
    "version": 3
   },
   "file_extension": ".py",
   "mimetype": "text/x-python",
   "name": "python",
   "nbconvert_exporter": "python",
   "pygments_lexer": "ipython3",
   "version": "3.9.12"
  }
 },
 "nbformat": 4,
 "nbformat_minor": 5
}
