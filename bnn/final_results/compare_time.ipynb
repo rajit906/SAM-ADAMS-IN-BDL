{
 "cells": [
  {
   "cell_type": "markdown",
   "id": "e0a4c0ae-0188-421d-89dd-528fa004e5ab",
   "metadata": {},
   "source": [
    "Constrain the samplers to have equal running times, and estimate their performances."
   ]
  },
  {
   "cell_type": "code",
   "execution_count": 1,
   "id": "a8b333e6-1b30-4e9e-870b-a1a3beacbc50",
   "metadata": {},
   "outputs": [],
   "source": [
    "import os\n",
    "import json\n",
    "import h5py\n",
    "import numpy as np\n",
    "import torch as t\n",
    "import matplotlib.pyplot as plt\n",
    "import pickle\n",
    "import gc\n",
    "import pandas as pd\n",
    "\n",
    "from pathlib import Path\n",
    "import warnings\n",
    "warnings.filterwarnings(\"ignore\")\n",
    "from scipy.interpolate import interp1d"
   ]
  },
  {
   "cell_type": "code",
   "execution_count": 2,
   "id": "5f7a49c4-b362-4697-a910-5924bde390f6",
   "metadata": {},
   "outputs": [],
   "source": [
    "def get_center_and_std(metrics):\n",
    "    center = []\n",
    "    std = []\n",
    "    for entry in metrics:\n",
    "        center.append(np.mean(entry))\n",
    "        std.append(np.std(entry))\n",
    "    return np.array(center), np.array(std)"
   ]
  },
  {
   "cell_type": "code",
   "execution_count": 3,
   "id": "02803011-1f25-4442-8e03-b27bb9b4a972",
   "metadata": {},
   "outputs": [],
   "source": [
    "def get_metrics(parent_dir, lrs, other_args, csv_path, fastest_metric=\"Identity\"):\n",
    "    \n",
    "    trials = 10\n",
    "    num_epochs = 400\n",
    "\n",
    "    sub_dirs = [str(i+1) for i in range(trials)]\n",
    "        \n",
    "    final_metrics = dict()\n",
    "    \n",
    "    df = pd.read_csv(csv_path, index_col=0)\n",
    "    final_metrics[\"timestamp\"] = num_epochs * df[\"T\"][fastest_metric]\n",
    "    \n",
    "    val_or_tests = [\"val\", \"test\"]\n",
    "    used_metrics = [\"lp_ensemble\", \"acc_ensemble\"]\n",
    "    indexes = [i for i in range(num_epochs)]\n",
    "    \n",
    "    metric_names = {'VanillaSGLD': 'Identity', 'WenzelSGLD': 'Wenzel', 'pSGLD': 'RMSprop', 'MongeSGLD': 'Monge', 'ShampooSGLD': 'Shampoo'}\n",
    "    \n",
    "    for (key, value) in lrs.items():\n",
    "        final_metrics[key] = dict()\n",
    "        \n",
    "        current_metrics = dict()\n",
    "        \n",
    "        if key in other_args:\n",
    "            temps = []\n",
    "            for other_arg in other_args[key]:\n",
    "                for lr in value:\n",
    "                    temps.append(f\"{lr}_{other_arg}\")\n",
    "        else:\n",
    "            temps = value\n",
    "            \n",
    "        bad_lrs = []\n",
    "\n",
    "        for lr in temps:\n",
    "            try:\n",
    "                current_metrics[lr] = dict()\n",
    "                for val_or_test in val_or_tests:\n",
    "                    current_metrics[lr][val_or_test] = dict()\n",
    "                    for used_metric in used_metrics:\n",
    "                        current_metrics[lr][val_or_test][used_metric] = [[] for _ in range(num_epochs)]\n",
    "\n",
    "                for sub_dir in sub_dirs:\n",
    "                    with open(f'{parent_dir}{key}_{lr}/{sub_dir}/evaluations.pkl', 'rb') as f:\n",
    "                        evaluations = pickle.load(f)\n",
    "                        for val_or_test in val_or_tests:\n",
    "                            for used_metric in used_metrics:\n",
    "                                for (index, entry) in enumerate(evaluations[val_or_test]):\n",
    "                                    current_metrics[lr][val_or_test][used_metric][index].append(entry[used_metric])\n",
    "\n",
    "                for val_or_test in val_or_tests:\n",
    "                    for used_metric in used_metrics:\n",
    "                        center, std = get_center_and_std(current_metrics[lr][val_or_test][used_metric])\n",
    "                        current_metrics[lr][val_or_test][used_metric] = dict()\n",
    "                        current_metrics[lr][val_or_test][used_metric][\"center\"] = center\n",
    "                        current_metrics[lr][val_or_test][used_metric][\"std\"] = std\n",
    "            except:\n",
    "                # print(key, lr)\n",
    "                bad_lrs.append(lr)\n",
    "\n",
    "        # df = pd.read_csv(csv_path, index_col=0)\n",
    "        times = [(index+1)*df[\"T\"][metric_names[key]] for index in indexes]\n",
    "        if not np.isnan(df[\"T\"][metric_names[key]]):\n",
    "            assert times[-1] >= final_metrics[\"timestamp\"]\n",
    "            \n",
    "        candidate_lrs = dict()\n",
    "        for lr in temps:\n",
    "            if lr not in bad_lrs:\n",
    "                center_f = interp1d(times, current_metrics[lr][\"val\"][\"lp_ensemble\"][\"center\"])\n",
    "                candidate_lrs[lr] = center_f(final_metrics[\"timestamp\"]).item()\n",
    "\n",
    "        best_lr = max(candidate_lrs, key=candidate_lrs.get)\n",
    "        final_metrics[key][\"best_lr\"] = best_lr\n",
    "\n",
    "        final_metrics[key][\"lr\"] = best_lr\n",
    "        for used_metric in used_metrics:\n",
    "            center_f = interp1d(times, current_metrics[best_lr][\"test\"][used_metric][\"center\"])\n",
    "            std_f = interp1d(times, current_metrics[best_lr][\"test\"][used_metric][\"std\"])\n",
    "            final_metrics[key][used_metric] = [np.round(center_f(final_metrics[\"timestamp\"]).item(), 4), \n",
    "                                               np.round(std_f(final_metrics[\"timestamp\"]).item(), 4)]\n",
    "                \n",
    "    return final_metrics\n",
    "    "
   ]
  },
  {
   "cell_type": "code",
   "execution_count": 4,
   "id": "65520400-7365-4060-a927-7a456e3a083a",
   "metadata": {},
   "outputs": [
    {
     "data": {
      "text/plain": [
       "{'timestamp': 3080.0,\n",
       " 'VanillaSGLD': {'best_lr': 0.05,\n",
       "  'lr': 0.05,\n",
       "  'lp_ensemble': [-0.1311, 0.0004],\n",
       "  'acc_ensemble': [0.9684, 0.0005]},\n",
       " 'WenzelSGLD': {'best_lr': 0.075,\n",
       "  'lr': 0.075,\n",
       "  'lp_ensemble': [-0.1315, 0.0002],\n",
       "  'acc_ensemble': [0.9686, 0.0003]},\n",
       " 'pSGLD': {'best_lr': 0.00025,\n",
       "  'lr': 0.00025,\n",
       "  'lp_ensemble': [-0.131, 0.0005],\n",
       "  'acc_ensemble': [0.9689, 0.0006]},\n",
       " 'MongeSGLD': {'best_lr': '0.01_monge_alpha_2=2.25',\n",
       "  'lr': '0.01_monge_alpha_2=2.25',\n",
       "  'lp_ensemble': [nan, nan],\n",
       "  'acc_ensemble': [nan, nan]},\n",
       " 'ShampooSGLD': {'best_lr': 0.005,\n",
       "  'lr': 0.005,\n",
       "  'lp_ensemble': [-0.1304, 0.0002],\n",
       "  'acc_ensemble': [0.9684, 0.0004]}}"
      ]
     },
     "execution_count": 4,
     "metadata": {},
     "output_type": "execute_result"
    }
   ],
   "source": [
    "parent_dir = '../results/mnist_400_gaussian_1.0_100_flat_400_1000_evaluations/'\n",
    "\n",
    "lrs = dict()\n",
    "lrs[\"VanillaSGLD\"] = [0.01, 0.025, 0.05, 0.075, 0.1]\n",
    "lrs[\"WenzelSGLD\"] = [0.025, 0.05, 0.075, 0.1, 0.25, 0.5]\n",
    "lrs[\"pSGLD\"] = [0.000075, 0.0001, 0.00025, 0.0005, 0.00075]\n",
    "lrs[\"MongeSGLD\"] = [0.01, 0.025, 0.05, 0.075, 0.1, 0.25]\n",
    "lrs[\"ShampooSGLD\"] = [0.00075, 0.001, 0.0025, 0.005, 0.0075]\n",
    "\n",
    "other_args = dict()\n",
    "other_args[\"MongeSGLD\"] = [\"monge_alpha_2=2.25\", \"monge_alpha_2=2.0\", \"monge_alpha_2=1.75\", \"monge_alpha_2=1.5\", \"monge_alpha_2=1.25\", \"monge_alpha_2=1.0\", \"monge_alpha_2=0.75\", \"monge_alpha_2=0.5\", \"monge_alpha_2=0.25\", \"monge_alpha_2=0.1\", \"monge_alpha_2=0.05\"]\n",
    "\n",
    "csv_path = \"csvs/mnist_400_gaussian_1.0_100_flat_400_1000_evaluations.csv\"\n",
    "\n",
    "get_metrics(parent_dir, lrs, other_args, csv_path, \"Wenzel\")\n"
   ]
  },
  {
   "cell_type": "code",
   "execution_count": 5,
   "id": "2fa5289d-e5ce-4d78-8f29-8562b568937a",
   "metadata": {},
   "outputs": [
    {
     "data": {
      "text/plain": [
       "{'timestamp': 3320.0000000000005,\n",
       " 'VanillaSGLD': {'best_lr': 0.25,\n",
       "  'lr': 0.25,\n",
       "  'lp_ensemble': [-0.075, 0.0004],\n",
       "  'acc_ensemble': [0.9823, 0.0003]},\n",
       " 'WenzelSGLD': {'best_lr': 0.75,\n",
       "  'lr': 0.75,\n",
       "  'lp_ensemble': [-0.0777, 0.0009],\n",
       "  'acc_ensemble': [0.9806, 0.0003]},\n",
       " 'pSGLD': {'best_lr': 0.00075,\n",
       "  'lr': 0.00075,\n",
       "  'lp_ensemble': [-0.068, 0.0013],\n",
       "  'acc_ensemble': [0.9792, 0.0007]},\n",
       " 'MongeSGLD': {'best_lr': '0.25_monge_alpha_2=1.25',\n",
       "  'lr': '0.25_monge_alpha_2=1.25',\n",
       "  'lp_ensemble': [-0.065, 0.0006],\n",
       "  'acc_ensemble': [0.9826, 0.0006]},\n",
       " 'ShampooSGLD': {'best_lr': 0.005,\n",
       "  'lr': 0.005,\n",
       "  'lp_ensemble': [-0.0691, 0.0009],\n",
       "  'acc_ensemble': [0.9812, 0.0008]}}"
      ]
     },
     "execution_count": 5,
     "metadata": {},
     "output_type": "execute_result"
    }
   ],
   "source": [
    "parent_dir = '../results/mnist_400_horseshoe_1.0_100_flat_400_1000_evaluations/'\n",
    "\n",
    "lrs = dict()\n",
    "lrs[\"VanillaSGLD\"] = [0.075, 0.1, 0.25, 0.5, 0.75]\n",
    "lrs[\"WenzelSGLD\"] = [0.075, 0.1, 0.25, 0.5, 0.75, 1.0]\n",
    "lrs[\"pSGLD\"] = [0.0001, 0.00025, 0.0005, 0.00075, 0.001]\n",
    "lrs[\"MongeSGLD\"] = [0.075, 0.1, 0.25, 0.5, 0.75]\n",
    "lrs[\"ShampooSGLD\"] = [0.001, 0.0025, 0.005, 0.0075, 0.01]\n",
    "\n",
    "other_args = dict()\n",
    "other_args[\"MongeSGLD\"] = [\"monge_alpha_2=3.0\", \"monge_alpha_2=2.75\", \"monge_alpha_2=2.5\", \"monge_alpha_2=2.25\", \"monge_alpha_2=2.0\", \"monge_alpha_2=1.75\", \"monge_alpha_2=1.5\", \"monge_alpha_2=1.25\", \"monge_alpha_2=1.0\", \"monge_alpha_2=0.75\", \"monge_alpha_2=0.5\", \"monge_alpha_2=0.25\", \"monge_alpha_2=0.1\", \"monge_alpha_2=0.05\"]\n",
    "\n",
    "csv_path = \"csvs/mnist_400_horseshoe_1.0_100_flat_400_1000_evaluations.csv\"\n",
    "\n",
    "get_metrics(parent_dir, lrs, other_args, csv_path)\n"
   ]
  },
  {
   "cell_type": "code",
   "execution_count": 6,
   "id": "293e1b15-3b1f-43f8-9287-76c5ffab32bf",
   "metadata": {},
   "outputs": [
    {
     "data": {
      "text/plain": [
       "{'timestamp': 7959.999999999999,\n",
       " 'VanillaSGLD': {'best_lr': 0.05,\n",
       "  'lr': 0.05,\n",
       "  'lp_ensemble': [-0.1667, 0.0004],\n",
       "  'acc_ensemble': [0.9587, 0.0003]},\n",
       " 'WenzelSGLD': {'best_lr': 0.05,\n",
       "  'lr': 0.05,\n",
       "  'lp_ensemble': [-0.1668, 0.0004],\n",
       "  'acc_ensemble': [0.9583, 0.0004]},\n",
       " 'pSGLD': {'best_lr': 0.0005,\n",
       "  'lr': 0.0005,\n",
       "  'lp_ensemble': [-0.1648, 0.0002],\n",
       "  'acc_ensemble': [0.9612, 0.0003]},\n",
       " 'MongeSGLD': {'best_lr': '0.01_monge_alpha_2=1.0',\n",
       "  'lr': '0.01_monge_alpha_2=1.0',\n",
       "  'lp_ensemble': [nan, nan],\n",
       "  'acc_ensemble': [nan, nan]},\n",
       " 'ShampooSGLD': {'best_lr': 0.0025,\n",
       "  'lr': 0.0025,\n",
       "  'lp_ensemble': [-0.1635, 0.0003],\n",
       "  'acc_ensemble': [0.9596, 0.0004]}}"
      ]
     },
     "execution_count": 6,
     "metadata": {},
     "output_type": "execute_result"
    }
   ],
   "source": [
    "parent_dir = '../results/mnist_800_gaussian_1.0_100_flat_400_1000_evaluations/'\n",
    "\n",
    "lrs = dict()\n",
    "lrs[\"VanillaSGLD\"] = [0.01, 0.025, 0.05, 0.075, 0.1]\n",
    "lrs[\"WenzelSGLD\"] = [0.025, 0.05, 0.075, 0.1, 0.25, 0.5]\n",
    "lrs[\"pSGLD\"] = [0.000075, 0.0001, 0.00025, 0.0005, 0.00075]\n",
    "lrs[\"MongeSGLD\"] = [0.01, 0.025, 0.05, 0.075, 0.1, 0.25]\n",
    "lrs[\"ShampooSGLD\"] = [0.00075, 0.001, 0.0025, 0.005, 0.0075, 0.01]\n",
    "\n",
    "other_args = dict()\n",
    "other_args[\"MongeSGLD\"] = [\"monge_alpha_2=1.0\", \"monge_alpha_2=0.5\", \"monge_alpha_2=0.1\"]\n",
    "\n",
    "csv_path = \"csvs/mnist_800_gaussian_1.0_100_flat_400_1000_evaluations.csv\"\n",
    "\n",
    "get_metrics(parent_dir, lrs, other_args, csv_path)\n"
   ]
  },
  {
   "cell_type": "code",
   "execution_count": 7,
   "id": "b4f16c1a-cb11-46d9-9379-8b9609460167",
   "metadata": {},
   "outputs": [
    {
     "data": {
      "text/plain": [
       "{'timestamp': 9920.0,\n",
       " 'VanillaSGLD': {'best_lr': 0.5,\n",
       "  'lr': 0.5,\n",
       "  'lp_ensemble': [-0.0798, 0.0003],\n",
       "  'acc_ensemble': [0.9818, 0.0004]},\n",
       " 'WenzelSGLD': {'best_lr': 0.5,\n",
       "  'lr': 0.5,\n",
       "  'lp_ensemble': [-0.0842, 0.0008],\n",
       "  'acc_ensemble': [0.9787, 0.0002]},\n",
       " 'pSGLD': {'best_lr': 0.0005,\n",
       "  'lr': 0.0005,\n",
       "  'lp_ensemble': [-0.0656, 0.0013],\n",
       "  'acc_ensemble': [0.9801, 0.0007]},\n",
       " 'MongeSGLD': {'best_lr': '0.25_monge_alpha_2=0.5',\n",
       "  'lr': '0.25_monge_alpha_2=0.5',\n",
       "  'lp_ensemble': [-0.0628, 0.001],\n",
       "  'acc_ensemble': [0.9835, 0.0007]},\n",
       " 'ShampooSGLD': {'best_lr': 0.005,\n",
       "  'lr': 0.005,\n",
       "  'lp_ensemble': [-0.0663, 0.0009],\n",
       "  'acc_ensemble': [0.9819, 0.0006]}}"
      ]
     },
     "execution_count": 7,
     "metadata": {},
     "output_type": "execute_result"
    }
   ],
   "source": [
    "parent_dir = '../results/mnist_800_horseshoe_1.0_100_flat_400_1000_evaluations/'\n",
    "\n",
    "lrs = dict()\n",
    "lrs[\"VanillaSGLD\"] = [0.075, 0.1, 0.25, 0.5, 0.75]\n",
    "lrs[\"WenzelSGLD\"] = [0.075, 0.1, 0.25, 0.5, 0.75]\n",
    "lrs[\"pSGLD\"] = [0.0001, 0.00025, 0.0005, 0.00075, 0.001]\n",
    "lrs[\"MongeSGLD\"] = [0.075, 0.1, 0.25, 0.5, 0.75]\n",
    "lrs[\"ShampooSGLD\"] = [0.001, 0.0025, 0.005, 0.0075, 0.01]\n",
    "\n",
    "other_args = dict()\n",
    "other_args[\"MongeSGLD\"] = [\"monge_alpha_2=1.0\", \"monge_alpha_2=0.75\", \"monge_alpha_2=0.5\", \"monge_alpha_2=0.25\", \"monge_alpha_2=0.1\"]\n",
    "\n",
    "csv_path = \"csvs/mnist_800_horseshoe_1.0_100_flat_400_1000_evaluations.csv\"\n",
    "\n",
    "get_metrics(parent_dir, lrs, other_args, csv_path)\n"
   ]
  },
  {
   "cell_type": "code",
   "execution_count": 8,
   "id": "cedb7b1a-0153-41df-847e-eafc35d322a1",
   "metadata": {},
   "outputs": [
    {
     "data": {
      "text/plain": [
       "{'timestamp': 17400.0,\n",
       " 'VanillaSGLD': {'best_lr': 0.025,\n",
       "  'lr': 0.025,\n",
       "  'lp_ensemble': [-0.1932, 0.0004],\n",
       "  'acc_ensemble': [0.9514, 0.0004]},\n",
       " 'WenzelSGLD': {'best_lr': 0.05,\n",
       "  'lr': 0.05,\n",
       "  'lp_ensemble': [-0.1935, 0.0004],\n",
       "  'acc_ensemble': [0.9519, 0.0003]},\n",
       " 'pSGLD': {'best_lr': 0.0005,\n",
       "  'lr': 0.0005,\n",
       "  'lp_ensemble': [-0.1894, 0.0006],\n",
       "  'acc_ensemble': [0.9566, 0.0003]},\n",
       " 'MongeSGLD': {'best_lr': '0.025_monge_alpha_2=0.75',\n",
       "  'lr': '0.025_monge_alpha_2=0.75',\n",
       "  'lp_ensemble': [-0.1785, 0.0005],\n",
       "  'acc_ensemble': [0.956, 0.0005]},\n",
       " 'ShampooSGLD': {'best_lr': 0.0025,\n",
       "  'lr': 0.0025,\n",
       "  'lp_ensemble': [-0.1878, 0.0003],\n",
       "  'acc_ensemble': [0.9541, 0.0003]}}"
      ]
     },
     "execution_count": 8,
     "metadata": {},
     "output_type": "execute_result"
    }
   ],
   "source": [
    "parent_dir = '../results/mnist_1200_gaussian_1.0_100_flat_400_1000_evaluations/'\n",
    "\n",
    "lrs = dict()\n",
    "lrs[\"VanillaSGLD\"] = [0.01, 0.025, 0.05, 0.075, 0.1]\n",
    "lrs[\"WenzelSGLD\"] = [0.025, 0.05, 0.075, 0.1, 0.25, 0.5]\n",
    "lrs[\"pSGLD\"] = [0.000075, 0.0001, 0.00025, 0.0005, 0.00075]\n",
    "lrs[\"MongeSGLD\"] = [0.01, 0.025, 0.05, 0.075, 0.1, 0.25, 0.5, 0.75, 1.0]\n",
    "lrs[\"ShampooSGLD\"] = [0.00075, 0.001, 0.0025, 0.005, 0.0075, 0.01, 0.025]\n",
    "\n",
    "other_args = dict()\n",
    "other_args[\"MongeSGLD\"] = [\"monge_alpha_2=1.0\", \"monge_alpha_2=0.75\", \"monge_alpha_2=0.5\", \"monge_alpha_2=0.25\", \"monge_alpha_2=0.1\"]\n",
    "\n",
    "csv_path = \"csvs/mnist_1200_gaussian_1.0_100_flat_400_1000_evaluations.csv\"\n",
    "\n",
    "get_metrics(parent_dir, lrs, other_args, csv_path)\n"
   ]
  },
  {
   "cell_type": "code",
   "execution_count": 9,
   "id": "473f4b98-8de3-45fa-b0ce-b89199f0284c",
   "metadata": {},
   "outputs": [
    {
     "data": {
      "text/plain": [
       "{'timestamp': 22520.0,\n",
       " 'VanillaSGLD': {'best_lr': 0.25,\n",
       "  'lr': 0.25,\n",
       "  'lp_ensemble': [-0.0809, 0.0004],\n",
       "  'acc_ensemble': [0.9814, 0.0002]},\n",
       " 'WenzelSGLD': {'best_lr': 0.25,\n",
       "  'lr': 0.25,\n",
       "  'lp_ensemble': [-0.1009, 0.0009],\n",
       "  'acc_ensemble': [0.9745, 0.0005]},\n",
       " 'pSGLD': {'best_lr': 0.0005,\n",
       "  'lr': 0.0005,\n",
       "  'lp_ensemble': [-0.063, 0.0011],\n",
       "  'acc_ensemble': [0.9808, 0.0007]},\n",
       " 'MongeSGLD': {'best_lr': '0.25_monge_alpha_2=0.075',\n",
       "  'lr': '0.25_monge_alpha_2=0.075',\n",
       "  'lp_ensemble': [-0.0699, 0.0005],\n",
       "  'acc_ensemble': [0.9832, 0.0005]},\n",
       " 'ShampooSGLD': {'best_lr': 0.005,\n",
       "  'lr': 0.005,\n",
       "  'lp_ensemble': [-0.0599, 0.0005],\n",
       "  'acc_ensemble': [0.9831, 0.0003]}}"
      ]
     },
     "execution_count": 9,
     "metadata": {},
     "output_type": "execute_result"
    }
   ],
   "source": [
    "parent_dir = '../results/mnist_1200_horseshoe_1.0_100_flat_400_1000_evaluations/'\n",
    "\n",
    "lrs = dict()\n",
    "lrs[\"VanillaSGLD\"] = [0.075, 0.1, 0.25, 0.5, 0.75]\n",
    "lrs[\"WenzelSGLD\"] = [0.075, 0.1, 0.25, 0.5, 0.75]\n",
    "lrs[\"pSGLD\"] = [0.0001, 0.00025, 0.0005, 0.00075, 0.001]\n",
    "lrs[\"MongeSGLD\"] = [0.075, 0.1, 0.25, 0.5]\n",
    "lrs[\"ShampooSGLD\"] = [0.00075, 0.001, 0.0025, 0.005, 0.0075, 0.01]\n",
    "\n",
    "other_args = dict()\n",
    "other_args[\"MongeSGLD\"] = [\"monge_alpha_2=0.1\", \"monge_alpha_2=0.075\", \"monge_alpha_2=0.05\"]\n",
    "\n",
    "csv_path = \"csvs/mnist_1200_horseshoe_1.0_100_flat_400_1000_evaluations.csv\"\n",
    "\n",
    "get_metrics(parent_dir, lrs, other_args, csv_path)\n"
   ]
  },
  {
   "cell_type": "code",
   "execution_count": 10,
   "id": "b8d6588e-9ed8-4be3-ba96-fc7655feaa50",
   "metadata": {},
   "outputs": [
    {
     "data": {
      "text/plain": [
       "{'timestamp': 3000.0,\n",
       " 'VanillaSGLD': {'best_lr': 0.1,\n",
       "  'lr': 0.1,\n",
       "  'lp_ensemble': [-0.4634, 0.0039],\n",
       "  'acc_ensemble': [0.8589, 0.0013]},\n",
       " 'WenzelSGLD': {'best_lr': 0.5,\n",
       "  'lr': 0.5,\n",
       "  'lp_ensemble': [-0.4869, 0.0047],\n",
       "  'acc_ensemble': [0.8533, 0.0023]},\n",
       " 'pSGLD': {'best_lr': 0.00075,\n",
       "  'lr': 0.00075,\n",
       "  'lp_ensemble': [-0.4828, 0.0041],\n",
       "  'acc_ensemble': [0.8562, 0.0018]},\n",
       " 'MongeSGLD': {'best_lr': '0.075_monge_alpha_2=1.0',\n",
       "  'lr': '0.075_monge_alpha_2=1.0',\n",
       "  'lp_ensemble': [nan, nan],\n",
       "  'acc_ensemble': [nan, nan]},\n",
       " 'ShampooSGLD': {'best_lr': 0.025,\n",
       "  'lr': 0.025,\n",
       "  'lp_ensemble': [-0.4858, 0.0047],\n",
       "  'acc_ensemble': [0.8595, 0.0023]}}"
      ]
     },
     "execution_count": 10,
     "metadata": {},
     "output_type": "execute_result"
    }
   ],
   "source": [
    "parent_dir = '../results/cifar10_googleresnet_gaussian_1.0_100_flat_400_1000_evaluations/'\n",
    "\n",
    "lrs = dict()\n",
    "lrs[\"VanillaSGLD\"] = [0.05, 0.075, 0.1, 0.25, 0.5]\n",
    "lrs[\"WenzelSGLD\"] = [0.1, 0.25, 0.5, 0.75, 1.0]\n",
    "lrs[\"pSGLD\"] = [0.00025, 0.0005, 0.00075, 0.001, 0.0025, 0.005]\n",
    "lrs[\"MongeSGLD\"] = [0.075, 0.1, 0.25, 0.5, 0.75]\n",
    "lrs[\"ShampooSGLD\"] = [0.005, 0.0075, 0.01, 0.025, 0.05]\n",
    "\n",
    "other_args = dict()\n",
    "other_args[\"MongeSGLD\"] = [\"monge_alpha_2=1.0\", \"monge_alpha_2=0.5\", \"monge_alpha_2=0.1\"]\n",
    "\n",
    "csv_path = \"csvs/cifar10_googleresnet_gaussian_1.0_100_flat_400_1000_evaluations.csv\"\n",
    "\n",
    "get_metrics(parent_dir, lrs, other_args, csv_path, \"Wenzel\")\n"
   ]
  },
  {
   "cell_type": "code",
   "execution_count": 11,
   "id": "93f4d794-d3e2-4b03-88c4-b3934b9ac20e",
   "metadata": {},
   "outputs": [
    {
     "data": {
      "text/plain": [
       "{'timestamp': 4640.0,\n",
       " 'VanillaSGLD': {'best_lr': 0.1,\n",
       "  'lr': 0.1,\n",
       "  'lp_ensemble': [-0.4437, 0.004],\n",
       "  'acc_ensemble': [0.8641, 0.0025]},\n",
       " 'WenzelSGLD': {'best_lr': 0.75,\n",
       "  'lr': 0.75,\n",
       "  'lp_ensemble': [-0.4624, 0.005],\n",
       "  'acc_ensemble': [0.8612, 0.002]},\n",
       " 'pSGLD': {'best_lr': 0.00075,\n",
       "  'lr': 0.00075,\n",
       "  'lp_ensemble': [-0.4594, 0.003],\n",
       "  'acc_ensemble': [0.8631, 0.0026]},\n",
       " 'MongeSGLD': {'best_lr': '0.075_monge_alpha_2=1.0',\n",
       "  'lr': '0.075_monge_alpha_2=1.0',\n",
       "  'lp_ensemble': [nan, nan],\n",
       "  'acc_ensemble': [nan, nan]},\n",
       " 'ShampooSGLD': {'best_lr': 0.025,\n",
       "  'lr': 0.025,\n",
       "  'lp_ensemble': [-0.4506, 0.0023],\n",
       "  'acc_ensemble': [0.8697, 0.0015]}}"
      ]
     },
     "execution_count": 11,
     "metadata": {},
     "output_type": "execute_result"
    }
   ],
   "source": [
    "parent_dir = '../results/cifar10_correlatedgoogleresnet_convcorrnormal_1.0_100_flat_400_1000_evaluations/'\n",
    "\n",
    "lrs = dict()\n",
    "lrs[\"VanillaSGLD\"] = [0.05, 0.075, 0.1, 0.25, 0.5]\n",
    "lrs[\"WenzelSGLD\"] = [0.25, 0.5, 0.75, 1.0, 1.25]\n",
    "lrs[\"pSGLD\"] = [0.00025, 0.0005, 0.00075, 0.001, 0.0025]\n",
    "lrs[\"MongeSGLD\"] = [0.075, 0.1, 0.25, 0.5, 0.75]\n",
    "lrs[\"ShampooSGLD\"] = [0.0075, 0.01, 0.025, 0.05, 0.075]\n",
    "\n",
    "other_args = dict()\n",
    "other_args[\"MongeSGLD\"] = [\"monge_alpha_2=1.0\", \"monge_alpha_2=0.5\", \"monge_alpha_2=0.1\"]\n",
    "\n",
    "csv_path = \"csvs/cifar10_correlatedgoogleresnet_convcorrnormal_1.0_100_flat_400_1000_evaluations.csv\"\n",
    "\n",
    "get_metrics(parent_dir, lrs, other_args, csv_path)\n"
   ]
  },
  {
   "cell_type": "code",
   "execution_count": null,
   "id": "45563f29-3e56-42d9-a9e6-9ce1c1501906",
   "metadata": {},
   "outputs": [],
   "source": []
  }
 ],
 "metadata": {
  "kernelspec": {
   "display_name": "Python 3 (ipykernel)",
   "language": "python",
   "name": "python3"
  },
  "language_info": {
   "codemirror_mode": {
    "name": "ipython",
    "version": 3
   },
   "file_extension": ".py",
   "mimetype": "text/x-python",
   "name": "python",
   "nbconvert_exporter": "python",
   "pygments_lexer": "ipython3",
   "version": "3.9.12"
  }
 },
 "nbformat": 4,
 "nbformat_minor": 5
}
