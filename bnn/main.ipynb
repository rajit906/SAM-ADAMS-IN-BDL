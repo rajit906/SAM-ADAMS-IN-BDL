{
 "cells": [
  {
   "cell_type": "markdown",
   "id": "b9ecb6b0",
   "metadata": {},
   "source": [
    "# Bayesian Neural Networks"
   ]
  },
  {
   "cell_type": "code",
   "execution_count": null,
   "id": "d7394ecd",
   "metadata": {
    "vscode": {
     "languageId": "plaintext"
    }
   },
   "outputs": [],
   "source": [
    "# Use Horseshoe or Laplace prior to realize benefit against SGLD/SGHMC. Remove cold posterior effect in model architecture and data augmentation. Use simple MLP MNIST. Initialize with L-BFGS.\n",
    "# Show improvements in NLL/Brier/ECE/Test acc. \n",
    "# Show pSGLD fails as we increase temperature and it only works because we are averaging over optimizer iterates.\n",
    "# Show performance with change in batch size.\n",
    "# Reference: https://arxiv.org/html/2303.05101v4"
   ]
  }
 ],
 "metadata": {
  "language_info": {
   "name": "python"
  }
 },
 "nbformat": 4,
 "nbformat_minor": 5
}
