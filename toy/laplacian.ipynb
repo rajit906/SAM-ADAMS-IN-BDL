{
 "cells": [
  {
   "cell_type": "markdown",
   "id": "53ca8e4c",
   "metadata": {},
   "source": [
    "# There are various priors like Horseshoe, Laplacian (L1-reg), Gaussian (L2-reg) we should try\n",
    "https://proceedings.mlr.press/v5/carvalho09a/carvalho09a.pdf"
   ]
  },
  {
   "cell_type": "markdown",
   "id": "5479229a",
   "metadata": {},
   "source": []
  }
 ],
 "metadata": {
  "language_info": {
   "name": "python"
  }
 },
 "nbformat": 4,
 "nbformat_minor": 5
}
