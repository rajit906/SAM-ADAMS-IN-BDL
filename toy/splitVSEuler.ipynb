{
 "cells": [
  {
   "cell_type": "code",
   "execution_count": null,
   "id": "37eb99d9",
   "metadata": {
    "vscode": {
     "languageId": "plaintext"
    }
   },
   "outputs": [],
   "source": [
    "# Splitting vs Euler-Maruyama"
   ]
  },
  {
   "cell_type": "code",
   "execution_count": null,
   "id": "916d8381",
   "metadata": {
    "vscode": {
     "languageId": "plaintext"
    }
   },
   "outputs": [],
   "source": []
  }
 ],
 "metadata": {
  "language_info": {
   "name": "python"
  }
 },
 "nbformat": 4,
 "nbformat_minor": 5
}
