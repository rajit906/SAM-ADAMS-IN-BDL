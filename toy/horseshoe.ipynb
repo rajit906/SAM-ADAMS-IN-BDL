{
 "cells": [
  {
   "cell_type": "markdown",
   "id": "53ca8e4c",
   "metadata": {},
   "source": [
    "# Horseshoe Sparse Prior\n",
    "https://github.com/ksnxr/SSGRLDNDM/tree/master"
   ]
  },
  {
   "metadata": {
    "ExecuteTime": {
     "end_time": "2025-10-10T09:50:17.850129Z",
     "start_time": "2025-10-10T09:50:17.770179Z"
    }
   },
   "cell_type": "code",
   "source": [
    "import numpy as np, math\n",
    "from numba import njit, vectorize, float64\n",
    "from ipywidgets import interact, FloatLogSlider\n",
    "import warnings\n",
    "warnings.filterwarnings(\"ignore\")\n",
    "from viz import plot_samplers\n",
    "from ipywidgets import fixed\n",
    "# from scipy.special import exp1\n",
    "\n",
    "# x ~ N(0, lambda * sigma), simga ~ half-Cauchy(0, 1)\n",
    "lamb = 1\n",
    "\n",
    "@njit\n",
    "def grad_U(z):\n",
    "    y, x = z\n",
    "    a_x = x ** 2 / (2 * lamb**2)\n",
    "    a_y = y ** 2 / (2 * lamb**2)\n",
    "    a_x = np.clip(a_x, None, 732)\n",
    "    a_y = np.clip(a_y, None, 732)\n",
    "    grad_x = - (x / (lamb**2)) * (1 - np.exp(-a_x) / (a_x * exp1(a_x)))\n",
    "    grad_y = - (y / (lamb**2)) * (1 - np.exp(-a_y) / (a_y * exp1(a_y)))\n",
    "    return np.array([grad_y, grad_x])\n",
    "\n",
    "@njit\n",
    "def log_p(y, x):\n",
    "    a_x = x ** 2 / (2 * lamb**2)\n",
    "    a_y = y ** 2 / (2 * lamb**2)\n",
    "    a_x = np.clip(a_x, None, 732)\n",
    "    a_y = np.clip(a_y, None, 732)\n",
    "    # up to a constant:\n",
    "    return a_x + np.log(exp1(a_x)) + a_y + np.log(exp1(a_y))\n",
    "\n",
    "xs = np.linspace(-100, 100, 300)\n",
    "ys = np.linspace(-100, 100, 300)\n",
    "X, Y = np.meshgrid(xs, ys)\n",
    "LOGZ = log_p(Y, X)\n",
    "vmax, vmin = LOGZ.max(), LOGZ.max() - 40\n",
    "levels = np.linspace(vmin, vmax, 60)\n",
    "m, M, r, s = 0.5, 50, 0.25, 2\n",
    "b = 1 # BAOAB stepsize multiplier\n",
    "burnin = int(1e2)\n",
    "nsteps = int(1e5)\n",
    "\n",
    "plot_samplers(\n",
    "    alpha=0.01,\n",
    "    h=0.01,\n",
    "    gamma=0.5,\n",
    "    beta=1.,\n",
    "    grad_U=grad_U,\n",
    "    X=X,\n",
    "    Y=Y,\n",
    "    LOGZ=LOGZ,\n",
    "    levels=levels,\n",
    "    m=m,\n",
    "    M=M,\n",
    "    r=r,\n",
    "    s=s,\n",
    "    b = b,\n",
    "    burnin=burnin,\n",
    "    nsteps=nsteps,\n",
    "    record_trace=True,\n",
    "    plot_stride=2)\n"
   ],
   "id": "752f8bdb9c2bc67",
   "outputs": [
    {
     "ename": "TypingError",
     "evalue": "Failed in nopython mode pipeline (step: nopython frontend)\nFailed in nopython mode pipeline (step: nopython frontend)\nFailed in nopython mode pipeline (step: nopython frontend)\nNo implementation of function Function(<built-in function abs>) found for signature:\n \n >>> abs(array(float64, 2d, C))\n \nThere are 6 candidate implementations:\n  - Of which 2 did not match due to:\n  Type Restricted Function in function 'abs': File: unknown: Line unknown.\n    With argument(s): '(array(float64, 2d, C))':\n   No match for registered cases:\n    * (int8,) -> int8\n    * (int16,) -> int16\n    * (int32,) -> int32\n    * (int64,) -> int64\n    * (uint8,) -> uint8\n    * (uint16,) -> uint16\n    * (uint32,) -> uint32\n    * (uint64,) -> uint64\n    * (float32,) -> float32\n    * (float64,) -> float64\n    * (complex64,) -> float32\n    * (complex128,) -> float64\n  - Of which 4 did not match due to:\n  Overload of function 'abs': File: <numerous>: Line N/A.\n    With argument(s): '(array(float64, 2d, C))':\n   No match.\n\nDuring: resolving callee type: Function(<built-in function abs>)\nDuring: typing of call at /var/folders/jh/r45r43052wn82kc6s57y1m9m0000gn/T/ipykernel_17995/3145151740.py (45)\n\nFile \"../../../../../var/folders/jh/r45r43052wn82kc6s57y1m9m0000gn/T/ipykernel_17995/3145151740.py\", line 45:\n<source missing, REPL/exec in use?>\n\nDuring: Pass nopython_type_inference\nDuring: resolving callee type: type(CPUDispatcher(<function _e1_tiny_x at 0x1134c8360>))\nDuring: typing of call at /var/folders/jh/r45r43052wn82kc6s57y1m9m0000gn/T/ipykernel_17995/3145151740.py (65)\n\nFile \"../../../../../var/folders/jh/r45r43052wn82kc6s57y1m9m0000gn/T/ipykernel_17995/3145151740.py\", line 65:\n<source missing, REPL/exec in use?>\n\nDuring: Pass nopython_type_inference\nDuring: resolving callee type: type(CPUDispatcher(<function exp1 at 0x1134c9300>))\nDuring: typing of call at /var/folders/jh/r45r43052wn82kc6s57y1m9m0000gn/T/ipykernel_17995/3145151740.py (87)\n\nFile \"../../../../../var/folders/jh/r45r43052wn82kc6s57y1m9m0000gn/T/ipykernel_17995/3145151740.py\", line 87:\n<source missing, REPL/exec in use?>\n\nDuring: Pass nopython_type_inference",
     "output_type": "error",
     "traceback": [
      "\u001B[31m---------------------------------------------------------------------------\u001B[39m",
      "\u001B[31mTypingError\u001B[39m                               Traceback (most recent call last)",
      "\u001B[36mCell\u001B[39m\u001B[36m \u001B[39m\u001B[32mIn[5]\u001B[39m\u001B[32m, line 92\u001B[39m\n\u001B[32m     90\u001B[39m ys = np.linspace(-\u001B[32m100\u001B[39m, \u001B[32m100\u001B[39m, \u001B[32m300\u001B[39m)\n\u001B[32m     91\u001B[39m X, Y = np.meshgrid(xs, ys)\n\u001B[32m---> \u001B[39m\u001B[32m92\u001B[39m LOGZ = \u001B[43mlog_p\u001B[49m\u001B[43m(\u001B[49m\u001B[43mY\u001B[49m\u001B[43m,\u001B[49m\u001B[43m \u001B[49m\u001B[43mX\u001B[49m\u001B[43m)\u001B[49m\n\u001B[32m     93\u001B[39m vmax, vmin = LOGZ.max(), LOGZ.max() - \u001B[32m40\u001B[39m\n\u001B[32m     94\u001B[39m levels = np.linspace(vmin, vmax, \u001B[32m60\u001B[39m)\n",
      "\u001B[36mFile \u001B[39m\u001B[32m~/LocalDoc/SAM-ADAMS-IN-BDL/.venv/lib/python3.13/site-packages/numba/core/dispatcher.py:424\u001B[39m, in \u001B[36m_DispatcherBase._compile_for_args\u001B[39m\u001B[34m(self, *args, **kws)\u001B[39m\n\u001B[32m    420\u001B[39m         msg = (\u001B[33mf\u001B[39m\u001B[33m\"\u001B[39m\u001B[38;5;132;01m{\u001B[39;00m\u001B[38;5;28mstr\u001B[39m(e).rstrip()\u001B[38;5;132;01m}\u001B[39;00m\u001B[33m \u001B[39m\u001B[38;5;130;01m\\n\u001B[39;00m\u001B[38;5;130;01m\\n\u001B[39;00m\u001B[33mThis error may have been caused \u001B[39m\u001B[33m\"\u001B[39m\n\u001B[32m    421\u001B[39m                \u001B[33mf\u001B[39m\u001B[33m\"\u001B[39m\u001B[33mby the following argument(s):\u001B[39m\u001B[38;5;130;01m\\n\u001B[39;00m\u001B[38;5;132;01m{\u001B[39;00margs_str\u001B[38;5;132;01m}\u001B[39;00m\u001B[38;5;130;01m\\n\u001B[39;00m\u001B[33m\"\u001B[39m)\n\u001B[32m    422\u001B[39m         e.patch_message(msg)\n\u001B[32m--> \u001B[39m\u001B[32m424\u001B[39m     \u001B[43merror_rewrite\u001B[49m\u001B[43m(\u001B[49m\u001B[43me\u001B[49m\u001B[43m,\u001B[49m\u001B[43m \u001B[49m\u001B[33;43m'\u001B[39;49m\u001B[33;43mtyping\u001B[39;49m\u001B[33;43m'\u001B[39;49m\u001B[43m)\u001B[49m\n\u001B[32m    425\u001B[39m \u001B[38;5;28;01mexcept\u001B[39;00m errors.UnsupportedError \u001B[38;5;28;01mas\u001B[39;00m e:\n\u001B[32m    426\u001B[39m     \u001B[38;5;66;03m# Something unsupported is present in the user code, add help info\u001B[39;00m\n\u001B[32m    427\u001B[39m     error_rewrite(e, \u001B[33m'\u001B[39m\u001B[33munsupported_error\u001B[39m\u001B[33m'\u001B[39m)\n",
      "\u001B[36mFile \u001B[39m\u001B[32m~/LocalDoc/SAM-ADAMS-IN-BDL/.venv/lib/python3.13/site-packages/numba/core/dispatcher.py:365\u001B[39m, in \u001B[36m_DispatcherBase._compile_for_args.<locals>.error_rewrite\u001B[39m\u001B[34m(e, issue_type)\u001B[39m\n\u001B[32m    363\u001B[39m     \u001B[38;5;28;01mraise\u001B[39;00m e\n\u001B[32m    364\u001B[39m \u001B[38;5;28;01melse\u001B[39;00m:\n\u001B[32m--> \u001B[39m\u001B[32m365\u001B[39m     \u001B[38;5;28;01mraise\u001B[39;00m e.with_traceback(\u001B[38;5;28;01mNone\u001B[39;00m)\n",
      "\u001B[31mTypingError\u001B[39m: Failed in nopython mode pipeline (step: nopython frontend)\nFailed in nopython mode pipeline (step: nopython frontend)\nFailed in nopython mode pipeline (step: nopython frontend)\nNo implementation of function Function(<built-in function abs>) found for signature:\n \n >>> abs(array(float64, 2d, C))\n \nThere are 6 candidate implementations:\n  - Of which 2 did not match due to:\n  Type Restricted Function in function 'abs': File: unknown: Line unknown.\n    With argument(s): '(array(float64, 2d, C))':\n   No match for registered cases:\n    * (int8,) -> int8\n    * (int16,) -> int16\n    * (int32,) -> int32\n    * (int64,) -> int64\n    * (uint8,) -> uint8\n    * (uint16,) -> uint16\n    * (uint32,) -> uint32\n    * (uint64,) -> uint64\n    * (float32,) -> float32\n    * (float64,) -> float64\n    * (complex64,) -> float32\n    * (complex128,) -> float64\n  - Of which 4 did not match due to:\n  Overload of function 'abs': File: <numerous>: Line N/A.\n    With argument(s): '(array(float64, 2d, C))':\n   No match.\n\nDuring: resolving callee type: Function(<built-in function abs>)\nDuring: typing of call at /var/folders/jh/r45r43052wn82kc6s57y1m9m0000gn/T/ipykernel_17995/3145151740.py (45)\n\nFile \"../../../../../var/folders/jh/r45r43052wn82kc6s57y1m9m0000gn/T/ipykernel_17995/3145151740.py\", line 45:\n<source missing, REPL/exec in use?>\n\nDuring: Pass nopython_type_inference\nDuring: resolving callee type: type(CPUDispatcher(<function _e1_tiny_x at 0x1134c8360>))\nDuring: typing of call at /var/folders/jh/r45r43052wn82kc6s57y1m9m0000gn/T/ipykernel_17995/3145151740.py (65)\n\nFile \"../../../../../var/folders/jh/r45r43052wn82kc6s57y1m9m0000gn/T/ipykernel_17995/3145151740.py\", line 65:\n<source missing, REPL/exec in use?>\n\nDuring: Pass nopython_type_inference\nDuring: resolving callee type: type(CPUDispatcher(<function exp1 at 0x1134c9300>))\nDuring: typing of call at /var/folders/jh/r45r43052wn82kc6s57y1m9m0000gn/T/ipykernel_17995/3145151740.py (87)\n\nFile \"../../../../../var/folders/jh/r45r43052wn82kc6s57y1m9m0000gn/T/ipykernel_17995/3145151740.py\", line 87:\n<source missing, REPL/exec in use?>\n\nDuring: Pass nopython_type_inference"
     ]
    }
   ],
   "execution_count": 5
  },
  {
   "cell_type": "code",
   "id": "2a2150c8",
   "metadata": {
    "ExecuteTime": {
     "end_time": "2025-10-09T16:09:08.446287Z",
     "start_time": "2025-10-09T16:09:08.445107Z"
    }
   },
   "source": [],
   "outputs": [],
   "execution_count": null
  }
 ],
 "metadata": {
  "kernelspec": {
   "display_name": "base",
   "language": "python",
   "name": "python3"
  },
  "language_info": {
   "codemirror_mode": {
    "name": "ipython",
    "version": 3
   },
   "file_extension": ".py",
   "mimetype": "text/x-python",
   "name": "python",
   "nbconvert_exporter": "python",
   "pygments_lexer": "ipython3",
   "version": "3.11.7"
  }
 },
 "nbformat": 4,
 "nbformat_minor": 5
}
