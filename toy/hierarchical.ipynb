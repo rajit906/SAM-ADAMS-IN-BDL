{
 "cells": [
  {
   "cell_type": "markdown",
   "id": "9172882a",
   "metadata": {},
   "source": [
    "#  Hierarchical Model for Radon Measurements"
   ]
  },
  {
   "cell_type": "code",
   "execution_count": null,
   "id": "c253c428",
   "metadata": {
    "vscode": {
     "languageId": "plaintext"
    }
   },
   "outputs": [],
   "source": [
    "# Show a nice hierarchical problem for Bayesian learning with curved modes with simulated gradient noise and full-batch size.\n",
    "# Then repeat with smaller batch size and tune temperature.\n",
    "# https://www.pymc.io/projects/examples/en/2021.11.0/variational_inference/GLM-hierarchical-advi-minibatch.html\n",
    "# https://brendanhasz.github.io/2018/11/15/hmm-vs-gp-part2.html"
   ]
  }
 ],
 "metadata": {
  "language_info": {
   "name": "python"
  }
 },
 "nbformat": 4,
 "nbformat_minor": 5
}
