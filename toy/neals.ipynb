{
 "cells": [
  {
   "cell_type": "markdown",
   "id": "c8dce676",
   "metadata": {},
   "source": [
    "# Reproduction: Neal's Funnel"
   ]
  },
  {
   "cell_type": "code",
   "execution_count": null,
   "id": "ec006424",
   "metadata": {},
   "outputs": [
    {
     "data": {
      "application/vnd.jupyter.widget-view+json": {
       "model_id": "0b4c6a99a190436a95e8e71462a84e25",
       "version_major": 2,
       "version_minor": 0
      },
      "text/plain": [
       "interactive(children=(FloatLogSlider(value=1.0, description='alpha', max=2.0, min=-2.0), FloatLogSlider(value=…"
      ]
     },
     "metadata": {},
     "output_type": "display_data"
    },
    {
     "data": {
      "text/plain": [
       "<function viz.plot_samplers(alpha, h, gamma, beta, grad_U, laplacian_U, X, Y, LOGZ, levels, m, M, r)>"
      ]
     },
     "execution_count": 1,
     "metadata": {},
     "output_type": "execute_result"
    }
   ],
   "source": [
    "import numpy as np\n",
    "from numba import njit\n",
    "from ipywidgets import interact, FloatLogSlider\n",
    "from viz import plot_samplers\n",
    "import warnings\n",
    "warnings.filterwarnings(\"ignore\")\n",
    "from viz import plot_samplers\n",
    "from ipywidgets import fixed\n",
    "\n",
    "# --- Neal's funnel potential ---\n",
    "@njit\n",
    "def grad_U(z):\n",
    "    y, x = z\n",
    "    grad_y = y - 0.5 * np.exp(-y) * (x**2)\n",
    "    grad_x = np.exp(-y) * x\n",
    "    return np.array([grad_y, grad_x])\n",
    "\n",
    "@njit\n",
    "def laplacian_U(z):\n",
    "    y, x = z\n",
    "    return 1.0 + np.exp(-y) + 0.5 * np.exp(-y) * x**2\n",
    "\n",
    "# --- Target log density for contours ---\n",
    "def log_p(y, x):\n",
    "    return -0.5*y**2 - 0.5*np.exp(-y)*x**2\n",
    "\n",
    "xs = np.linspace(-10, 10, 400)\n",
    "ys = np.linspace(-6, 6, 300)\n",
    "X, Y = np.meshgrid(xs, ys)\n",
    "LOGZ = log_p(Y, X)\n",
    "vmax, vmin = LOGZ.max(), LOGZ.max() - 40\n",
    "levels = np.linspace(vmin, vmax, 60)\n",
    "m, M, r = 0.01, 60, 0.5\n",
    "nsteps = 2e6\n",
    "\n",
    "interact(\n",
    "    plot_samplers,\n",
    "    alpha=FloatLogSlider(value=1.0, base=10, min=-2, max=2, step=0.1, description='alpha'),\n",
    "    h=FloatLogSlider(value=0.01, base=10, min=-3, max=0, step=0.1, description='h'),\n",
    "    gamma=FloatLogSlider(value=1.0, base=10, min=-2, max=2, step=0.1, description='gamma'),\n",
    "    beta=FloatLogSlider(value=1.0, base=10, min=-4, max=4, step=0.1, description='beta'),\n",
    "    grad_U=fixed(grad_U),\n",
    "    laplacian_U=fixed(laplacian_U),\n",
    "    X=fixed(X),\n",
    "    Y=fixed(Y),\n",
    "    LOGZ=fixed(LOGZ),\n",
    "    levels=fixed(levels),\n",
    "    m=fixed(m),\n",
    "    M=fixed(M),\n",
    "    r=fixed(r),\n",
    "    nsteps=fixed(nsteps)\n",
    ")\n"
   ]
  },
  {
   "cell_type": "code",
   "execution_count": null,
   "id": "1721d475",
   "metadata": {},
   "outputs": [],
   "source": []
  }
 ],
 "metadata": {
  "kernelspec": {
   "display_name": "base",
   "language": "python",
   "name": "python3"
  },
  "language_info": {
   "codemirror_mode": {
    "name": "ipython",
    "version": 3
   },
   "file_extension": ".py",
   "mimetype": "text/x-python",
   "name": "python",
   "nbconvert_exporter": "python",
   "pygments_lexer": "ipython3",
   "version": "3.11.7"
  }
 },
 "nbformat": 4,
 "nbformat_minor": 5
}
