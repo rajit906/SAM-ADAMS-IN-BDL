{
 "cells": [
  {
   "cell_type": "markdown",
   "id": "c8dce676",
   "metadata": {},
   "source": [
    "# Reproduction: Neal's Funnel"
   ]
  },
  {
   "cell_type": "code",
   "execution_count": null,
   "id": "ec006424",
   "metadata": {},
   "outputs": [
    {
     "ename": "TypingError",
     "evalue": "Failed in nopython mode pipeline (step: nopython frontend)\n\u001b[1m\u001b[1m\u001b[1m\u001b[1mFailed in nopython mode pipeline (step: nopython frontend)\n\u001b[1m\u001b[1m\u001b[1m\u001b[1mFailed in nopython mode pipeline (step: nopython frontend)\n\u001b[1m\u001b[1m\u001b[1mNo implementation of function Function(<built-in function array>) found for signature:\n \n >>> array(list(array(float64, 2d, F))<iv=None>)\n \nThere are 2 candidate implementations:\n\u001b[1m  - Of which 2 did not match due to:\n  Overload in function 'impl_np_array': File: numba/np/arrayobj.py: Line 5421.\n    With argument(s): '(list(array(float64, 2d, F))<iv=None>)':\u001b[0m\n\u001b[1m   Rejected as the implementation raised a specific error:\n     TypingError: Failed in nopython mode pipeline (step: nopython frontend)\n   \u001b[1m\u001b[1m\u001b[1mNo implementation of function Function(<intrinsic np_array>) found for signature:\n    \n    >>> np_array(list(array(float64, 2d, F))<iv=None>, none)\n    \n   There are 2 candidate implementations:\n   \u001b[1m      - Of which 2 did not match due to:\n         Intrinsic in function 'np_array': File: numba/np/arrayobj.py: Line 5395.\n           With argument(s): '(list(array(float64, 2d, F))<iv=None>, none)':\u001b[0m\n   \u001b[1m       Rejected as the implementation raised a specific error:\n            TypingError: \u001b[1marray(float64, 2d, F) not allowed in a homogeneous sequence\u001b[0m\u001b[0m\n     raised from /opt/anaconda3/lib/python3.11/site-packages/numba/core/typing/npydecl.py:482\n   \u001b[0m\n   \u001b[0m\u001b[1mDuring: resolving callee type: Function(<intrinsic np_array>)\u001b[0m\n   \u001b[0m\u001b[1mDuring: typing of call at /opt/anaconda3/lib/python3.11/site-packages/numba/np/arrayobj.py (5432)\n   \u001b[0m\n   \u001b[1m\n   File \"../../../../../opt/anaconda3/lib/python3.11/site-packages/numba/np/arrayobj.py\", line 5432:\u001b[0m\n   \u001b[1m    def impl(object, dtype=None):\n   \u001b[1m        return np_array(object, dtype)\n   \u001b[0m        \u001b[1m^\u001b[0m\u001b[0m\n\u001b[0m\n  raised from /opt/anaconda3/lib/python3.11/site-packages/numba/core/typeinfer.py:1091\n\u001b[0m\n\u001b[0m\u001b[1mDuring: resolving callee type: Function(<built-in function array>)\u001b[0m\n\u001b[0m\u001b[1mDuring: typing of call at /var/folders/sx/y6c6vjtn04719m5bcb52hk3r0000gn/T/ipykernel_54739/1109098425.py (39)\n\u001b[0m\n\u001b[1m\nFile \"../../../../../var/folders/sx/y6c6vjtn04719m5bcb52hk3r0000gn/T/ipykernel_54739/1109098425.py\", line 39:\u001b[0m\n\u001b[1m<source missing, REPL/exec in use?>\u001b[0m\n\n\u001b[0m\u001b[1mDuring: resolving callee type: type(CPUDispatcher(<function grad_U at 0x127120720>))\u001b[0m\n\u001b[0m\u001b[1mDuring: typing of call at /Users/rajit906/Downloads/SAM-ADAMS-IN-BDL/toy/samplers.py (35)\n\u001b[0m\n\u001b[0m\u001b[1mDuring: resolving callee type: type(CPUDispatcher(<function grad_U at 0x127120720>))\u001b[0m\n\u001b[0m\u001b[1mDuring: typing of call at /Users/rajit906/Downloads/SAM-ADAMS-IN-BDL/toy/samplers.py (35)\n\u001b[0m\n\u001b[1m\nFile \"samplers.py\", line 35:\u001b[0m\n\u001b[1mdef step_BAOAB(x, p, z, h, gamma, alpha, beta, grad_U, m, M, r, s):\n    <source elided>\n    dt = h\n\u001b[1m    p -= 0.5 * dt * grad_U(x)\n\u001b[0m    \u001b[1m^\u001b[0m\u001b[0m\n\n\u001b[0m\u001b[1mDuring: resolving callee type: type(CPUDispatcher(<function step_BAOAB at 0x12044ac00>))\u001b[0m\n\u001b[0m\u001b[1mDuring: typing of call at /Users/rajit906/Downloads/SAM-ADAMS-IN-BDL/toy/utils.py (18)\n\u001b[0m\n\u001b[0m\u001b[1mDuring: resolving callee type: type(CPUDispatcher(<function step_BAOAB at 0x12044ac00>))\u001b[0m\n\u001b[0m\u001b[1mDuring: typing of call at /Users/rajit906/Downloads/SAM-ADAMS-IN-BDL/toy/utils.py (18)\n\u001b[0m\n\u001b[1m\nFile \"utils.py\", line 18:\u001b[0m\n\u001b[1mdef run_sampler(stepper, nsteps, h, gamma, alpha, beta,\n    <source elided>\n    for t in range(nsteps + burnin):\n\u001b[1m        x, p, z, dt = stepper(x, p, z, h, gamma, alpha, beta,\n\u001b[0m        \u001b[1m^\u001b[0m\u001b[0m\n",
     "output_type": "error",
     "traceback": [
      "\u001b[0;31m---------------------------------------------------------------------------\u001b[0m",
      "\u001b[0;31mTypingError\u001b[0m                               Traceback (most recent call last)",
      "Cell \u001b[0;32mIn[6], line 94\u001b[0m\n\u001b[1;32m     89\u001b[0m nsteps \u001b[38;5;241m=\u001b[39m \u001b[38;5;28mint\u001b[39m(\u001b[38;5;241m1e3\u001b[39m)  \u001b[38;5;66;03m# start smaller for debugging\u001b[39;00m\n\u001b[1;32m     91\u001b[0m \u001b[38;5;66;03m# ====================================================\u001b[39;00m\n\u001b[1;32m     92\u001b[0m \u001b[38;5;66;03m# Run and visualize\u001b[39;00m\n\u001b[1;32m     93\u001b[0m \u001b[38;5;66;03m# ====================================================\u001b[39;00m\n\u001b[0;32m---> 94\u001b[0m plot_samplers(\n\u001b[1;32m     95\u001b[0m     alpha\u001b[38;5;241m=\u001b[39m\u001b[38;5;241m0.01\u001b[39m,\n\u001b[1;32m     96\u001b[0m     h\u001b[38;5;241m=\u001b[39m\u001b[38;5;241m0.01\u001b[39m,\n\u001b[1;32m     97\u001b[0m     gamma\u001b[38;5;241m=\u001b[39m\u001b[38;5;241m0.5\u001b[39m,\n\u001b[1;32m     98\u001b[0m     beta\u001b[38;5;241m=\u001b[39m\u001b[38;5;241m1.0\u001b[39m,\n\u001b[1;32m     99\u001b[0m     grad_U\u001b[38;5;241m=\u001b[39mgrad_U,\n\u001b[1;32m    100\u001b[0m     X\u001b[38;5;241m=\u001b[39mX,\n\u001b[1;32m    101\u001b[0m     Y\u001b[38;5;241m=\u001b[39mY,\n\u001b[1;32m    102\u001b[0m     LOGZ\u001b[38;5;241m=\u001b[39mLOGZ,\n\u001b[1;32m    103\u001b[0m     levels\u001b[38;5;241m=\u001b[39mlevels,\n\u001b[1;32m    104\u001b[0m     m\u001b[38;5;241m=\u001b[39mm,\n\u001b[1;32m    105\u001b[0m     M\u001b[38;5;241m=\u001b[39mM,\n\u001b[1;32m    106\u001b[0m     r\u001b[38;5;241m=\u001b[39mr,\n\u001b[1;32m    107\u001b[0m     s\u001b[38;5;241m=\u001b[39ms,\n\u001b[1;32m    108\u001b[0m     b\u001b[38;5;241m=\u001b[39mb,\n\u001b[1;32m    109\u001b[0m     burnin\u001b[38;5;241m=\u001b[39mburnin,\n\u001b[1;32m    110\u001b[0m     nsteps\u001b[38;5;241m=\u001b[39mnsteps,\n\u001b[1;32m    111\u001b[0m     record_trace\u001b[38;5;241m=\u001b[39m\u001b[38;5;28;01mTrue\u001b[39;00m,\n\u001b[1;32m    112\u001b[0m     plot_stride\u001b[38;5;241m=\u001b[39m\u001b[38;5;241m5\u001b[39m)\n",
      "File \u001b[0;32m~/Downloads/SAM-ADAMS-IN-BDL/toy/viz.py:11\u001b[0m, in \u001b[0;36mplot_samplers\u001b[0;34m(alpha, h, gamma, beta, grad_U, X, Y, LOGZ, levels, m, M, r, s, b, nsteps, burnin, record_trace, plot_stride)\u001b[0m\n\u001b[1;32m      6\u001b[0m \u001b[38;5;28;01mdef\u001b[39;00m \u001b[38;5;21mplot_samplers\u001b[39m(alpha, h, gamma, beta, grad_U,\n\u001b[1;32m      7\u001b[0m                   X, Y, LOGZ, levels,\n\u001b[1;32m      8\u001b[0m                   m, M, r, s, b, nsteps, burnin,\n\u001b[1;32m      9\u001b[0m                   record_trace\u001b[38;5;241m=\u001b[39m\u001b[38;5;28;01mTrue\u001b[39;00m, plot_stride\u001b[38;5;241m=\u001b[39m\u001b[38;5;241m10\u001b[39m):\n\u001b[0;32m---> 11\u001b[0m     samples_baoab, traces_baoab \u001b[38;5;241m=\u001b[39m run_sampler(\n\u001b[1;32m     12\u001b[0m         step_BAOAB, nsteps, h \u001b[38;5;241m*\u001b[39m b, gamma, alpha, beta,\n\u001b[1;32m     13\u001b[0m         grad_U, m, M, r, s, burnin\u001b[38;5;241m=\u001b[39mburnin, record_trace\u001b[38;5;241m=\u001b[39mrecord_trace)\n\u001b[1;32m     15\u001b[0m     \u001b[38;5;28mprint\u001b[39m(\u001b[38;5;124m'\u001b[39m\u001b[38;5;124m---- Finished running BAOAB ----\u001b[39m\u001b[38;5;124m'\u001b[39m)\n\u001b[1;32m     17\u001b[0m     samples_zbaoabz, traces_zbaoabz \u001b[38;5;241m=\u001b[39m run_sampler(\n\u001b[1;32m     18\u001b[0m         step_ZBAOABZ, nsteps, h, gamma, alpha, beta,\n\u001b[1;32m     19\u001b[0m         grad_U, m, M, r, s, burnin\u001b[38;5;241m=\u001b[39mburnin, record_trace\u001b[38;5;241m=\u001b[39mrecord_trace)\n",
      "File \u001b[0;32m/opt/anaconda3/lib/python3.11/site-packages/numba/core/dispatcher.py:468\u001b[0m, in \u001b[0;36m_DispatcherBase._compile_for_args\u001b[0;34m(self, *args, **kws)\u001b[0m\n\u001b[1;32m    464\u001b[0m         msg \u001b[38;5;241m=\u001b[39m (\u001b[38;5;124mf\u001b[39m\u001b[38;5;124m\"\u001b[39m\u001b[38;5;132;01m{\u001b[39;00m\u001b[38;5;28mstr\u001b[39m(e)\u001b[38;5;241m.\u001b[39mrstrip()\u001b[38;5;132;01m}\u001b[39;00m\u001b[38;5;124m \u001b[39m\u001b[38;5;130;01m\\n\u001b[39;00m\u001b[38;5;130;01m\\n\u001b[39;00m\u001b[38;5;124mThis error may have been caused \u001b[39m\u001b[38;5;124m\"\u001b[39m\n\u001b[1;32m    465\u001b[0m                \u001b[38;5;124mf\u001b[39m\u001b[38;5;124m\"\u001b[39m\u001b[38;5;124mby the following argument(s):\u001b[39m\u001b[38;5;130;01m\\n\u001b[39;00m\u001b[38;5;132;01m{\u001b[39;00margs_str\u001b[38;5;132;01m}\u001b[39;00m\u001b[38;5;130;01m\\n\u001b[39;00m\u001b[38;5;124m\"\u001b[39m)\n\u001b[1;32m    466\u001b[0m         e\u001b[38;5;241m.\u001b[39mpatch_message(msg)\n\u001b[0;32m--> 468\u001b[0m     error_rewrite(e, \u001b[38;5;124m'\u001b[39m\u001b[38;5;124mtyping\u001b[39m\u001b[38;5;124m'\u001b[39m)\n\u001b[1;32m    469\u001b[0m \u001b[38;5;28;01mexcept\u001b[39;00m errors\u001b[38;5;241m.\u001b[39mUnsupportedError \u001b[38;5;28;01mas\u001b[39;00m e:\n\u001b[1;32m    470\u001b[0m     \u001b[38;5;66;03m# Something unsupported is present in the user code, add help info\u001b[39;00m\n\u001b[1;32m    471\u001b[0m     error_rewrite(e, \u001b[38;5;124m'\u001b[39m\u001b[38;5;124munsupported_error\u001b[39m\u001b[38;5;124m'\u001b[39m)\n",
      "File \u001b[0;32m/opt/anaconda3/lib/python3.11/site-packages/numba/core/dispatcher.py:409\u001b[0m, in \u001b[0;36m_DispatcherBase._compile_for_args.<locals>.error_rewrite\u001b[0;34m(e, issue_type)\u001b[0m\n\u001b[1;32m    407\u001b[0m     \u001b[38;5;28;01mraise\u001b[39;00m e\n\u001b[1;32m    408\u001b[0m \u001b[38;5;28;01melse\u001b[39;00m:\n\u001b[0;32m--> 409\u001b[0m     \u001b[38;5;28;01mraise\u001b[39;00m e\u001b[38;5;241m.\u001b[39mwith_traceback(\u001b[38;5;28;01mNone\u001b[39;00m)\n",
      "\u001b[0;31mTypingError\u001b[0m: Failed in nopython mode pipeline (step: nopython frontend)\n\u001b[1m\u001b[1m\u001b[1m\u001b[1mFailed in nopython mode pipeline (step: nopython frontend)\n\u001b[1m\u001b[1m\u001b[1m\u001b[1mFailed in nopython mode pipeline (step: nopython frontend)\n\u001b[1m\u001b[1m\u001b[1mNo implementation of function Function(<built-in function array>) found for signature:\n \n >>> array(list(array(float64, 2d, F))<iv=None>)\n \nThere are 2 candidate implementations:\n\u001b[1m  - Of which 2 did not match due to:\n  Overload in function 'impl_np_array': File: numba/np/arrayobj.py: Line 5421.\n    With argument(s): '(list(array(float64, 2d, F))<iv=None>)':\u001b[0m\n\u001b[1m   Rejected as the implementation raised a specific error:\n     TypingError: Failed in nopython mode pipeline (step: nopython frontend)\n   \u001b[1m\u001b[1m\u001b[1mNo implementation of function Function(<intrinsic np_array>) found for signature:\n    \n    >>> np_array(list(array(float64, 2d, F))<iv=None>, none)\n    \n   There are 2 candidate implementations:\n   \u001b[1m      - Of which 2 did not match due to:\n         Intrinsic in function 'np_array': File: numba/np/arrayobj.py: Line 5395.\n           With argument(s): '(list(array(float64, 2d, F))<iv=None>, none)':\u001b[0m\n   \u001b[1m       Rejected as the implementation raised a specific error:\n            TypingError: \u001b[1marray(float64, 2d, F) not allowed in a homogeneous sequence\u001b[0m\u001b[0m\n     raised from /opt/anaconda3/lib/python3.11/site-packages/numba/core/typing/npydecl.py:482\n   \u001b[0m\n   \u001b[0m\u001b[1mDuring: resolving callee type: Function(<intrinsic np_array>)\u001b[0m\n   \u001b[0m\u001b[1mDuring: typing of call at /opt/anaconda3/lib/python3.11/site-packages/numba/np/arrayobj.py (5432)\n   \u001b[0m\n   \u001b[1m\n   File \"../../../../../opt/anaconda3/lib/python3.11/site-packages/numba/np/arrayobj.py\", line 5432:\u001b[0m\n   \u001b[1m    def impl(object, dtype=None):\n   \u001b[1m        return np_array(object, dtype)\n   \u001b[0m        \u001b[1m^\u001b[0m\u001b[0m\n\u001b[0m\n  raised from /opt/anaconda3/lib/python3.11/site-packages/numba/core/typeinfer.py:1091\n\u001b[0m\n\u001b[0m\u001b[1mDuring: resolving callee type: Function(<built-in function array>)\u001b[0m\n\u001b[0m\u001b[1mDuring: typing of call at /var/folders/sx/y6c6vjtn04719m5bcb52hk3r0000gn/T/ipykernel_54739/1109098425.py (39)\n\u001b[0m\n\u001b[1m\nFile \"../../../../../var/folders/sx/y6c6vjtn04719m5bcb52hk3r0000gn/T/ipykernel_54739/1109098425.py\", line 39:\u001b[0m\n\u001b[1m<source missing, REPL/exec in use?>\u001b[0m\n\n\u001b[0m\u001b[1mDuring: resolving callee type: type(CPUDispatcher(<function grad_U at 0x127120720>))\u001b[0m\n\u001b[0m\u001b[1mDuring: typing of call at /Users/rajit906/Downloads/SAM-ADAMS-IN-BDL/toy/samplers.py (35)\n\u001b[0m\n\u001b[0m\u001b[1mDuring: resolving callee type: type(CPUDispatcher(<function grad_U at 0x127120720>))\u001b[0m\n\u001b[0m\u001b[1mDuring: typing of call at /Users/rajit906/Downloads/SAM-ADAMS-IN-BDL/toy/samplers.py (35)\n\u001b[0m\n\u001b[1m\nFile \"samplers.py\", line 35:\u001b[0m\n\u001b[1mdef step_BAOAB(x, p, z, h, gamma, alpha, beta, grad_U, m, M, r, s):\n    <source elided>\n    dt = h\n\u001b[1m    p -= 0.5 * dt * grad_U(x)\n\u001b[0m    \u001b[1m^\u001b[0m\u001b[0m\n\n\u001b[0m\u001b[1mDuring: resolving callee type: type(CPUDispatcher(<function step_BAOAB at 0x12044ac00>))\u001b[0m\n\u001b[0m\u001b[1mDuring: typing of call at /Users/rajit906/Downloads/SAM-ADAMS-IN-BDL/toy/utils.py (18)\n\u001b[0m\n\u001b[0m\u001b[1mDuring: resolving callee type: type(CPUDispatcher(<function step_BAOAB at 0x12044ac00>))\u001b[0m\n\u001b[0m\u001b[1mDuring: typing of call at /Users/rajit906/Downloads/SAM-ADAMS-IN-BDL/toy/utils.py (18)\n\u001b[0m\n\u001b[1m\nFile \"utils.py\", line 18:\u001b[0m\n\u001b[1mdef run_sampler(stepper, nsteps, h, gamma, alpha, beta,\n    <source elided>\n    for t in range(nsteps + burnin):\n\u001b[1m        x, p, z, dt = stepper(x, p, z, h, gamma, alpha, beta,\n\u001b[0m        \u001b[1m^\u001b[0m\u001b[0m\n"
     ]
    }
   ],
   "source": [
    "# TODO: Reweight samples for ZBAOABZ. Compute expectation semilogy curves. Plot stepsize distributions.\n",
    "\n",
    "import numpy as np\n",
    "from numba import njit\n",
    "from ipywidgets import interact, FloatLogSlider\n",
    "from viz import plot_samplers\n",
    "import warnings\n",
    "warnings.filterwarnings(\"ignore\")\n",
    "from viz import plot_samplers\n",
    "from ipywidgets import fixed\n",
    "\n",
    "# --- Neal's funnel potential ---\n",
    "@njit\n",
    "def grad_U(z):\n",
    "    y, x = z\n",
    "    grad_y = y - 0.5 * np.exp(-y) * (x**2)\n",
    "    grad_x = np.exp(-y) * x\n",
    "    return np.array([grad_y, grad_x])\n",
    "\n",
    "# --- Target log density for contours ---\n",
    "def log_p(y, x):\n",
    "    return -0.5 * (y**2 + np.exp(-y)*x**2)\n",
    "\n",
    "xs = np.linspace(-20, 20, 400)\n",
    "ys = np.linspace(-10, 10, 300)\n",
    "X, Y = np.meshgrid(xs, ys)\n",
    "LOGZ = log_p(Y, X)\n",
    "vmax, vmin = LOGZ.max(), LOGZ.max() - 40\n",
    "levels = np.linspace(vmin, vmax, 60)\n",
    "m, M, r, s = 0.5, 50, 0.25, 2\n",
    "b = 6.5 # BAOAB stepsize multiplier\n",
    "burnin = int(1e5)\n",
    "nsteps = int(1e7)\n",
    "\n",
    "plot_samplers(\n",
    "    alpha=0.01,\n",
    "    h=0.01,\n",
    "    gamma=0.5,\n",
    "    beta=1.,\n",
    "    grad_U=grad_U,\n",
    "    X=X,\n",
    "    Y=Y,\n",
    "    LOGZ=LOGZ,\n",
    "    levels=levels,\n",
    "    m=m,\n",
    "    M=M,\n",
    "    r=r,\n",
    "    s=s,\n",
    "    b = b,\n",
    "    burnin=burnin,\n",
    "    nsteps=nsteps,\n",
    "    record_trace=True,\n",
    "    plot_stride=2)"
   ]
  },
  {
   "cell_type": "code",
   "execution_count": null,
   "id": "cd59191c",
   "metadata": {},
   "outputs": [],
   "source": [
    "interact(\n",
    "    plot_samplers,\n",
    "    alpha=FloatLogSlider(value=0.1, base=10, min=-2, max=2, step=0.1, description='alpha'),\n",
    "    h=FloatLogSlider(value=0.01, base=10, min=-3, max=0, step=0.1, description='h'),\n",
    "    gamma=FloatLogSlider(value=1.0, base=10, min=-2, max=2, step=0.1, description='gamma'),\n",
    "    beta=FloatLogSlider(value=1.0, base=10, min=-4, max=4, step=0.1, description='beta'),\n",
    "    grad_U=fixed(grad_U),\n",
    "    X=fixed(X),\n",
    "    Y=fixed(Y),\n",
    "    LOGZ=fixed(LOGZ),\n",
    "    levels=fixed(levels),\n",
    "    m=fixed(m),\n",
    "    M=fixed(M),\n",
    "    r=fixed(r),\n",
    "    burnin=fixed(burnin),\n",
    "    nsteps=fixed(nsteps),\n",
    "    record_trace=fixed(False),\n",
    "    plot_stride=fixed(5)\n",
    ")\n"
   ]
  }
 ],
 "metadata": {
  "kernelspec": {
   "display_name": "base",
   "language": "python",
   "name": "python3"
  },
  "language_info": {
   "codemirror_mode": {
    "name": "ipython",
    "version": 3
   },
   "file_extension": ".py",
   "mimetype": "text/x-python",
   "name": "python",
   "nbconvert_exporter": "python",
   "pygments_lexer": "ipython3",
   "version": "3.11.7"
  }
 },
 "nbformat": 4,
 "nbformat_minor": 5
}
