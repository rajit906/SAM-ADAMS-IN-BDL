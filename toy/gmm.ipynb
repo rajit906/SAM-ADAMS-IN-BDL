{
 "cells": [
  {
   "cell_type": "markdown",
   "id": "9dd4cc82",
   "metadata": {},
   "source": [
    "# Motivating toy example: Multimodal GMM with varying mode sizes and noisy gradients"
   ]
  },
  {
   "cell_type": "code",
   "execution_count": null,
   "id": "7e44911c",
   "metadata": {
    "vscode": {
     "languageId": "plaintext"
    }
   },
   "outputs": [],
   "source": [
    "# Have 4 modes, all of different sizes with entropic barriers. Compare SGLD, SA-SGLD. SGHMC, SA-SGHMC. pSGLD and AdamSGLD.\n",
    "# KL divergence / Wasserstein-2 between empirical marginal and ground truth (available for these toy problems). Compute on a grid or analytically where possible.\n",
    "# ESS per gradient-eval (use spectral density estimator).\n",
    "# Autocorrelation time for key coordinates.\n",
    "# Trace plots and kernel density overlays with ground-truth contours.\n",
    "# Acceptance-free diagnostics: sample quantiles, mean & covariance bias."
   ]
  }
 ],
 "metadata": {
  "language_info": {
   "name": "python"
  }
 },
 "nbformat": 4,
 "nbformat_minor": 5
}
